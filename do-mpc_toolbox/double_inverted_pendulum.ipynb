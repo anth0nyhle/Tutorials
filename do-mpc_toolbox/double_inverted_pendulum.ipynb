{
 "cells": [
  {
   "attachments": {},
   "cell_type": "markdown",
   "metadata": {},
   "source": [
    "# Double inverted pendulum\n",
    "\n",
    "This notebook illutrates a double inverted pendulum example and how to use differential algebraic euation (DAE) models in do-mpc.  \n",
    "Link: https://www.do-mpc.com/en/latest/example_gallery/DIP.html"
   ]
  },
  {
   "cell_type": "code",
   "execution_count": 7,
   "metadata": {},
   "outputs": [],
   "source": [
    "import numpy as np\n",
    "import sys\n",
    "from casadi import *\n",
    "import do_mpc"
   ]
  },
  {
   "attachments": {},
   "cell_type": "markdown",
   "metadata": {},
   "source": [
    "## Model"
   ]
  },
  {
   "cell_type": "code",
   "execution_count": 8,
   "metadata": {},
   "outputs": [],
   "source": [
    "model_type = 'continuous' # either 'discrete' or 'continuous'\n",
    "model = do_mpc.model.Model(model_type)"
   ]
  },
  {
   "attachments": {},
   "cell_type": "markdown",
   "metadata": {},
   "source": [
    "### Parameters"
   ]
  },
  {
   "cell_type": "code",
   "execution_count": 9,
   "metadata": {},
   "outputs": [],
   "source": [
    "m0 = 0.6  # kg, mass of the cart\n",
    "m1 = 0.2  # kg, mass of the first rod\n",
    "m2 = 0.2  # kg, mass of the second rod\n",
    "L1 = 0.5  # m,  length of the first rod\n",
    "L2 = 0.5  # m,  length of the second rod\n",
    "\n",
    "g = 9.80665 # m/s^2, Gravity"
   ]
  },
  {
   "cell_type": "code",
   "execution_count": 10,
   "metadata": {},
   "outputs": [],
   "source": [
    "l1 = L1/2 # m,\n",
    "l2 = L2/2 # m,\n",
    "J1 = (m1 * l1**2) / 3   # Inertia\n",
    "J2 = (m2 * l2**2) / 3   # Inertia\n",
    "\n",
    "h1 = m0 + m1 + m2\n",
    "h2 = m1*l1 + m2*L1\n",
    "h3 = m2*l2\n",
    "h4 = m1*l1**2 + m2*L1**2 + J1\n",
    "h5 = m2*l2*L1\n",
    "h6 = m2*l2**2 + J2\n",
    "h7 = (m1*l1 + m2*L1) * g\n",
    "h8 = m2*l2*g"
   ]
  },
  {
   "attachments": {},
   "cell_type": "markdown",
   "metadata": {},
   "source": [
    "### Euler-Lagrangian equations"
   ]
  },
  {
   "cell_type": "code",
   "execution_count": 11,
   "metadata": {},
   "outputs": [],
   "source": [
    "pos = model.set_variable('_x',  'pos')\n",
    "theta = model.set_variable('_x',  'theta', (2,1))\n",
    "dpos = model.set_variable('_x',  'dpos')\n",
    "dtheta = model.set_variable('_x',  'dtheta', (2,1))\n",
    "\n",
    "u = model.set_variable('_u',  'force')"
   ]
  },
  {
   "attachments": {},
   "cell_type": "markdown",
   "metadata": {},
   "source": [
    "### Differential algebraic equation (DAE)"
   ]
  },
  {
   "cell_type": "code",
   "execution_count": 12,
   "metadata": {},
   "outputs": [],
   "source": [
    "ddpos = model.set_variable('_z', 'ddpos')\n",
    "ddtheta = model.set_variable('_z', 'ddtheta', (2,1))"
   ]
  },
  {
   "cell_type": "code",
   "execution_count": 14,
   "metadata": {},
   "outputs": [],
   "source": [
    "model.set_rhs('pos', dpos)\n",
    "model.set_rhs('theta', dtheta)\n",
    "model.set_rhs('dpos', ddpos)\n",
    "model.set_rhs('dtheta', ddtheta)"
   ]
  },
  {
   "cell_type": "code",
   "execution_count": 15,
   "metadata": {},
   "outputs": [],
   "source": [
    "euler_lagrange = vertcat(\n",
    "        # 1\n",
    "        h1*ddpos+h2*ddtheta[0]*cos(theta[0])+h3*ddtheta[1]*cos(theta[1])\n",
    "        - (h2*dtheta[0]**2*sin(theta[0]) + h3*dtheta[1]**2*sin(theta[1]) + u),\n",
    "        # 2\n",
    "        h2*cos(theta[0])*ddpos + h4*ddtheta[0] + h5*cos(theta[0]-theta[1])*ddtheta[1]\n",
    "        - (h7*sin(theta[0]) - h5*dtheta[1]**2*sin(theta[0]-theta[1])),\n",
    "        # 3\n",
    "        h3*cos(theta[1])*ddpos + h5*cos(theta[0]-theta[1])*ddtheta[0] + h6*ddtheta[1]\n",
    "        - (h5*dtheta[0]**2*sin(theta[0]-theta[1]) + h8*sin(theta[1]))\n",
    "    )\n",
    "\n",
    "model.set_alg('euler_lagrange', euler_lagrange)"
   ]
  },
  {
   "attachments": {},
   "cell_type": "markdown",
   "metadata": {},
   "source": [
    "### Energy equations"
   ]
  },
  {
   "cell_type": "code",
   "execution_count": 16,
   "metadata": {},
   "outputs": [
    {
     "data": {
      "text/plain": [
       "SX(((0.490333*cos(theta_0))+(1.96133*((0.5*cos(theta_0))+(0.25*cos(theta_1))))))"
      ]
     },
     "execution_count": 16,
     "metadata": {},
     "output_type": "execute_result"
    }
   ],
   "source": [
    "E_kin_cart = 1 / 2 * m0 * dpos**2\n",
    "E_kin_p1 = 1 / 2 * m1 * (\n",
    "    (dpos + l1 * dtheta[0] * cos(theta[0]))**2 +\n",
    "    (l1 * dtheta[0] * sin(theta[0]))**2) + 1 / 2 * J1 * dtheta[0]**2\n",
    "E_kin_p2 = 1 / 2 * m2 * (\n",
    "    (dpos + L1 * dtheta[0] * cos(theta[0]) + l2 * dtheta[1] * cos(theta[1]))**2 +\n",
    "    (L1 * dtheta[0] * sin(theta[0]) + l2 * dtheta[1] * sin(theta[1]))**\n",
    "    2) + 1 / 2 * J2 * dtheta[0]**2\n",
    "\n",
    "E_kin = E_kin_cart + E_kin_p1 + E_kin_p2\n",
    "\n",
    "E_pot = m1 * g * l1 * cos(\n",
    "theta[0]) + m2 * g * (L1 * cos(theta[0]) +\n",
    "                            l2 * cos(theta[1]))\n",
    "\n",
    "model.set_expression('E_kin', E_kin)\n",
    "model.set_expression('E_pot', E_pot)"
   ]
  },
  {
   "cell_type": "code",
   "execution_count": 17,
   "metadata": {},
   "outputs": [],
   "source": [
    "# Build the model\n",
    "model.setup()"
   ]
  },
  {
   "attachments": {},
   "cell_type": "markdown",
   "metadata": {},
   "source": [
    "## Controller"
   ]
  },
  {
   "cell_type": "code",
   "execution_count": 18,
   "metadata": {},
   "outputs": [],
   "source": [
    "mpc = do_mpc.controller.MPC(model)"
   ]
  },
  {
   "cell_type": "code",
   "execution_count": 19,
   "metadata": {},
   "outputs": [],
   "source": [
    "setup_mpc = {\n",
    "    'n_horizon': 100,\n",
    "    'n_robust': 0,\n",
    "    'open_loop': 0,\n",
    "    't_step': 0.04,\n",
    "    'state_discretization': 'collocation',\n",
    "    'collocation_type': 'radau',\n",
    "    'collocation_deg': 3,\n",
    "    'collocation_ni': 1,\n",
    "    'store_full_solution': True,\n",
    "    # Use MA27 linear solver in ipopt for faster calculations:\n",
    "    'nlpsol_opts': {'ipopt.linear_solver': 'mumps'}\n",
    "}\n",
    "mpc.set_param(**setup_mpc)"
   ]
  },
  {
   "attachments": {},
   "cell_type": "markdown",
   "metadata": {},
   "source": [
    "### Objective"
   ]
  },
  {
   "cell_type": "code",
   "execution_count": 20,
   "metadata": {},
   "outputs": [],
   "source": [
    "mterm = model.aux['E_kin'] - model.aux['E_pot'] # terminal cost\n",
    "lterm = model.aux['E_kin'] - model.aux['E_pot'] # stage cost\n",
    "\n",
    "mpc.set_objective(mterm=mterm, lterm=lterm)\n",
    "# Input force is implicitly restricted through the objective.\n",
    "mpc.set_rterm(force=0.1)"
   ]
  },
  {
   "attachments": {},
   "cell_type": "markdown",
   "metadata": {},
   "source": [
    "### Constraints"
   ]
  },
  {
   "cell_type": "code",
   "execution_count": 21,
   "metadata": {},
   "outputs": [],
   "source": [
    "mpc.bounds['lower','_u','force'] = -4\n",
    "mpc.bounds['upper','_u','force'] = 4"
   ]
  },
  {
   "cell_type": "code",
   "execution_count": 22,
   "metadata": {},
   "outputs": [],
   "source": [
    "mpc.setup()"
   ]
  },
  {
   "attachments": {},
   "cell_type": "markdown",
   "metadata": {},
   "source": [
    "## Estimator"
   ]
  },
  {
   "cell_type": "code",
   "execution_count": 23,
   "metadata": {},
   "outputs": [],
   "source": [
    "estimator = do_mpc.estimator.StateFeedback(model)"
   ]
  },
  {
   "attachments": {},
   "cell_type": "markdown",
   "metadata": {},
   "source": [
    "## Simulator"
   ]
  },
  {
   "cell_type": "code",
   "execution_count": 24,
   "metadata": {},
   "outputs": [],
   "source": [
    "simulator = do_mpc.simulator.Simulator(model)"
   ]
  },
  {
   "cell_type": "code",
   "execution_count": 25,
   "metadata": {},
   "outputs": [],
   "source": [
    "params_simulator = {\n",
    "    # Note: cvode doesn't support DAE systems.\n",
    "    'integration_tool': 'idas',\n",
    "    'abstol': 1e-8,\n",
    "    'reltol': 1e-8,\n",
    "    't_step': 0.04\n",
    "}\n",
    "\n",
    "simulator.set_param(**params_simulator)"
   ]
  },
  {
   "cell_type": "code",
   "execution_count": 26,
   "metadata": {},
   "outputs": [],
   "source": [
    "simulator.setup()"
   ]
  },
  {
   "attachments": {},
   "cell_type": "markdown",
   "metadata": {},
   "source": [
    "## Closed-loop simulation"
   ]
  },
  {
   "cell_type": "code",
   "execution_count": 27,
   "metadata": {},
   "outputs": [],
   "source": [
    "simulator.x0['theta'] = 0.99*np.pi\n",
    "\n",
    "x0 = simulator.x0.cat.full()\n",
    "\n",
    "mpc.x0 = x0\n",
    "estimator.x0 = x0\n",
    "\n",
    "mpc.set_initial_guess()"
   ]
  },
  {
   "attachments": {},
   "cell_type": "markdown",
   "metadata": {},
   "source": [
    "### Prepare visualization"
   ]
  },
  {
   "cell_type": "code",
   "execution_count": 29,
   "metadata": {},
   "outputs": [],
   "source": [
    "import matplotlib.pyplot as plt\n",
    "plt.ion()\n",
    "from matplotlib import rcParams\n",
    "\n",
    "rcParams['text.usetex'] = False\n",
    "rcParams['axes.grid'] = True\n",
    "rcParams['lines.linewidth'] = 2.0\n",
    "rcParams['axes.labelsize'] = 'xx-large'\n",
    "rcParams['xtick.labelsize'] = 'xx-large'\n",
    "rcParams['ytick.labelsize'] = 'xx-large'"
   ]
  },
  {
   "cell_type": "code",
   "execution_count": 30,
   "metadata": {},
   "outputs": [],
   "source": [
    "mpc_graphics = do_mpc.graphics.Graphics(mpc.data)"
   ]
  },
  {
   "cell_type": "code",
   "execution_count": 31,
   "metadata": {},
   "outputs": [],
   "source": [
    "def pendulum_bars(x):\n",
    "    x = x.flatten()\n",
    "    # Get the x,y coordinates of the two bars for the given state x.\n",
    "    line_1_x = np.array([\n",
    "        x[0],\n",
    "        x[0]+L1*np.sin(x[1])\n",
    "    ])\n",
    "\n",
    "    line_1_y = np.array([\n",
    "        0,\n",
    "        L1*np.cos(x[1])\n",
    "    ])\n",
    "\n",
    "    line_2_x = np.array([\n",
    "        line_1_x[1],\n",
    "        line_1_x[1] + L2*np.sin(x[2])\n",
    "    ])\n",
    "\n",
    "    line_2_y = np.array([\n",
    "        line_1_y[1],\n",
    "        line_1_y[1] + L2*np.cos(x[2])\n",
    "    ])\n",
    "\n",
    "    line_1 = np.stack((line_1_x, line_1_y))\n",
    "    line_2 = np.stack((line_2_x, line_2_y))\n",
    "\n",
    "    return line_1, line_2"
   ]
  },
  {
   "cell_type": "code",
   "execution_count": 32,
   "metadata": {},
   "outputs": [],
   "source": [
    "%%capture\n",
    "\n",
    "fig = plt.figure(figsize=(16,9))\n",
    "\n",
    "ax1 = plt.subplot2grid((4, 2), (0, 0), rowspan=4)\n",
    "ax2 = plt.subplot2grid((4, 2), (0, 1))\n",
    "ax3 = plt.subplot2grid((4, 2), (1, 1))\n",
    "ax4 = plt.subplot2grid((4, 2), (2, 1))\n",
    "ax5 = plt.subplot2grid((4, 2), (3, 1))\n",
    "\n",
    "ax2.set_ylabel('$E_{kin}$ [J]')\n",
    "ax3.set_ylabel('$E_{pot}$ [J]')\n",
    "ax4.set_ylabel('Angle  [rad]')\n",
    "ax5.set_ylabel('Input force [N]')\n",
    "\n",
    "# Axis on the right.\n",
    "for ax in [ax2, ax3, ax4, ax5]:\n",
    "    ax.yaxis.set_label_position(\"right\")\n",
    "    ax.yaxis.tick_right()\n",
    "    if ax != ax5:\n",
    "        ax.xaxis.set_ticklabels([])\n",
    "\n",
    "ax5.set_xlabel('time [s]')\n",
    "\n",
    "mpc_graphics.add_line(var_type='_aux', var_name='E_kin', axis=ax2)\n",
    "mpc_graphics.add_line(var_type='_aux', var_name='E_pot', axis=ax3)\n",
    "mpc_graphics.add_line(var_type='_x', var_name='theta', axis=ax4)\n",
    "mpc_graphics.add_line(var_type='_u', var_name='force', axis=ax5)\n",
    "\n",
    "ax1.axhline(0,color='black')\n",
    "\n",
    "bar1 = ax1.plot([],[], '-o', linewidth=5, markersize=10)\n",
    "bar2 = ax1.plot([],[], '-o', linewidth=5, markersize=10)\n",
    "\n",
    "ax1.set_xlim(-1.8,1.8)\n",
    "ax1.set_ylim(-1.2,1.2)\n",
    "ax1.set_axis_off()\n",
    "\n",
    "fig.align_ylabels()\n",
    "fig.tight_layout()"
   ]
  },
  {
   "attachments": {},
   "cell_type": "markdown",
   "metadata": {},
   "source": [
    "### Run open-loop"
   ]
  },
  {
   "cell_type": "code",
   "execution_count": 33,
   "metadata": {},
   "outputs": [
    {
     "name": "stdout",
     "output_type": "stream",
     "text": [
      "\n",
      "******************************************************************************\n",
      "This program contains Ipopt, a library for large-scale nonlinear optimization.\n",
      " Ipopt is released as open source code under the Eclipse Public License (EPL).\n",
      "         For more information visit https://github.com/coin-or/Ipopt\n",
      "******************************************************************************\n",
      "\n",
      "This is Ipopt version 3.14.11, running with linear solver MUMPS 5.4.1.\n",
      "\n",
      "Number of nonzeros in equality constraint Jacobian...:    19406\n",
      "Number of nonzeros in inequality constraint Jacobian.:        0\n",
      "Number of nonzeros in Lagrangian Hessian.............:     6814\n",
      "\n",
      "Total number of variables............................:     4330\n",
      "                     variables with only lower bounds:        0\n",
      "                variables with lower and upper bounds:      100\n",
      "                     variables with only upper bounds:        0\n",
      "Total number of equality constraints.................:     4206\n",
      "Total number of inequality constraints...............:        0\n",
      "        inequality constraints with only lower bounds:        0\n",
      "   inequality constraints with lower and upper bounds:        0\n",
      "        inequality constraints with only upper bounds:        0\n",
      "\n",
      "iter    objective    inf_pr   inf_du lg(mu)  ||d||  lg(rg) alpha_du alpha_pr  ls\n",
      "   0  1.9799658e+02 4.62e-02 1.00e-03  -1.0 0.00e+00    -  0.00e+00 0.00e+00   0\n",
      "   1  1.9809206e+02 7.33e-05 3.25e-04  -1.0 1.53e+00  -4.0 1.00e+00 1.00e+00h  1\n",
      "   2  1.9808344e+02 8.59e-05 1.22e-04  -2.5 4.56e-01  -3.6 1.00e+00 1.00e+00h  1\n",
      "   3  1.9753270e+02 2.78e+00 5.70e-01  -3.8 2.32e+01  -4.1 6.69e-01 1.00e+00f  1\n",
      "   4  1.9586898e+02 2.82e-01 3.12e-01  -3.8 1.14e+01  -3.6 3.78e-01 1.00e+00h  1\n",
      "   5  1.9529674e+02 1.38e+00 1.17e+00  -3.8 5.85e+01  -4.1 4.40e-01 4.20e-01H  1\n",
      "   6  1.9266815e+02 2.02e-01 3.44e-01  -3.8 9.02e+00  -3.7 1.63e-02 1.00e+00h  1\n",
      "   7  1.9230231e+02 1.47e-01 2.58e-01  -3.8 2.10e+01  -4.2 9.32e-01 2.44e-01h  1\n",
      "   8  1.9168746e+02 3.42e-02 2.53e-02  -3.8 6.96e+00  -3.7 1.00e+00 1.00e+00h  1\n",
      "   9  1.9143721e+02 3.64e-02 1.08e-01  -3.8 2.48e+01  -4.2 1.00e+00 1.82e-01h  1\n",
      "iter    objective    inf_pr   inf_du lg(mu)  ||d||  lg(rg) alpha_du alpha_pr  ls\n",
      "  10  1.9079371e+02 3.46e-01 7.82e-01  -3.8 4.32e+02  -4.7 4.15e-01 6.65e-02f  1\n",
      "  11  1.8908306e+02 4.01e-01 4.09e-01  -3.8 4.52e+01  -4.3 1.00e+00 8.14e-01h  1\n",
      "  12  1.8756861e+02 2.58e-01 1.53e-01  -3.8 1.60e+01  -3.8 9.86e-01 1.00e+00h  1\n",
      "  13  1.8672963e+02 1.14e-01 1.17e-01  -3.8 9.14e+00  -3.4 1.00e+00 7.85e-01h  1\n",
      "  14  1.8599444e+02 2.54e-01 2.29e-01  -3.8 6.29e+01  -3.9 1.00e+00 1.66e-01f  1\n",
      "  15  1.8497680e+02 2.03e-01 2.37e-01  -3.8 1.23e+01  -3.5 4.49e-01 1.00e+00h  1\n",
      "  16  1.8431904e+02 1.32e+00 8.76e-01  -3.8 2.62e+02  -3.9 4.75e-01 1.14e-01f  1\n",
      "  17  1.8419251e+02 1.26e+00 8.40e-01  -3.8 1.56e+02  -4.4 4.12e-01 4.26e-02h  1\n",
      "  18  1.8355652e+02 1.89e-01 3.51e-01  -3.8 1.42e+01  -4.0 4.32e-01 1.00e+00h  1\n",
      "  19  1.8340539e+02 8.43e-02 1.34e-01  -3.8 1.80e+01  -3.6 3.85e-01 6.91e-01h  1\n",
      "iter    objective    inf_pr   inf_du lg(mu)  ||d||  lg(rg) alpha_du alpha_pr  ls\n",
      "  20  1.8278298e+02 1.71e-01 8.75e-02  -3.8 1.52e+01  -4.0 5.64e-01 1.00e+00h  1\n",
      "  21  1.8137884e+02 1.19e+00 1.93e-01  -3.8 4.27e+01  -4.5 7.99e-01 1.00e+00h  1\n",
      "  22  1.8054397e+02 9.66e-01 2.77e-01  -3.8 2.48e+02  -5.0 1.00e+00 1.90e-01h  1\n",
      "  23  1.7935148e+02 6.67e-01 6.46e-01  -3.8 7.50e+01  -4.6 1.00e+00 1.00e+00h  1\n",
      "  24  1.7911415e+02 2.49e-02 6.09e-02  -3.8 2.17e+01  -4.1 8.34e-01 1.00e+00h  1\n",
      "  25  1.7853139e+02 1.66e-01 8.37e-02  -3.8 3.71e+01  -4.6 1.00e+00 1.00e+00h  1\n",
      "  26  1.7811735e+02 2.20e-01 1.27e-01  -3.8 1.79e+02  -5.1 2.69e-01 1.71e-01h  1\n",
      "  27  1.7729048e+02 7.02e-01 7.41e-01  -3.8 8.17e+01  -4.7 1.00e+00 1.00e+00h  1\n",
      "  28  1.7707325e+02 2.62e-02 7.24e-02  -3.8 2.92e+01  -4.2 7.54e-01 1.00e+00h  1\n",
      "  29  1.7675410e+02 7.16e-02 7.35e-02  -3.8 5.09e+01  -4.7 1.00e+00 5.45e-01h  1\n",
      "iter    objective    inf_pr   inf_du lg(mu)  ||d||  lg(rg) alpha_du alpha_pr  ls\n",
      "  30  1.7655913e+02 9.00e-02 1.00e-01  -3.8 3.02e+02  -5.2 7.05e-02 6.59e-02h  1\n",
      "  31  1.7563304e+02 5.43e-01 5.17e-01  -3.8 9.26e+01  -4.8 1.00e+00 1.00e+00h  1\n",
      "  32  1.7524670e+02 3.62e-01 2.30e-01  -3.8 9.46e+01  -4.3 1.00e+00 4.13e-01h  1\n",
      "  33  1.7495560e+02 3.42e-02 1.10e-01  -3.8 3.39e+01  -3.9 1.00e+00 1.00e+00h  1\n",
      "  34  1.7432016e+02 2.25e-01 2.63e-01  -3.8 9.17e+01  -4.4 1.00e+00 6.21e-01h  1\n",
      "  35  1.7389919e+02 3.08e-02 2.46e-01  -3.8 2.91e+01  -4.0 7.85e-01 1.00e+00h  1\n",
      "  36  1.7313442e+02 1.12e-01 2.69e-01  -3.8 5.50e+01  -4.4 9.62e-01 1.00e+00h  1\n",
      "  37  1.7298814e+02 1.06e-01 2.54e-01  -3.8 1.38e+02  -4.9 2.75e-01 6.49e-02h  1\n",
      "  38  1.7267284e+02 1.08e-01 2.51e-01  -3.8 3.03e+02  -5.4 2.44e-01 7.04e-02h  1\n",
      "  39  1.7196293e+02 1.72e-01 2.87e-01  -3.8 1.32e+02  -5.0 2.15e-01 4.89e-01h  1\n",
      "iter    objective    inf_pr   inf_du lg(mu)  ||d||  lg(rg) alpha_du alpha_pr  ls\n",
      "  40  1.7170123e+02 8.72e-02 1.86e-01  -3.8 5.09e+01  -4.5 1.00e+00 6.14e-01h  1\n",
      "  41  1.7115493e+02 5.63e-01 4.00e-01  -3.8 1.84e+02  -5.0 5.42e-01 5.35e-01h  1\n",
      "  42  1.7100518e+02 4.54e-01 2.74e-01  -3.8 1.60e+02  -4.6 6.72e-01 2.37e-01h  1\n",
      "  43  1.7087406e+02 5.20e-02 2.10e-01  -3.8 4.92e+01  -4.2 1.00e+00 1.00e+00h  1\n",
      "  44  1.7030568e+02 5.46e-01 9.94e-01  -3.8 1.18e+02  -4.6 7.20e-01 9.99e-01h  1\n",
      "  45  1.7005659e+02 8.96e-02 2.74e-01  -3.8 6.21e+01  -4.2 1.00e+00 9.00e-01h  1\n",
      "  46  1.6976863e+02 9.08e-02 3.76e-01  -3.8 5.72e+01  -4.7 1.00e+00 1.00e+00h  1\n",
      "  47  1.6949691e+02 1.31e-01 4.04e-01  -3.8 1.38e+02  -5.2 1.00e+00 4.11e-01h  1\n",
      "  48  1.6825870e+02 3.02e+00 3.40e+00  -3.8 2.78e+02  -5.7 1.00e+00 1.00e+00h  1\n",
      "  49  1.6836002e+02 2.51e+00 2.93e+00  -3.8 1.17e+02  -4.3 1.00e+00 1.73e-01h  1\n",
      "iter    objective    inf_pr   inf_du lg(mu)  ||d||  lg(rg) alpha_du alpha_pr  ls\n",
      "  50  1.6831224e+02 1.07e-01 4.60e-01  -3.8 1.47e+02  -4.8 1.00e+00 1.00e+00h  1\n",
      "  51  1.6813689e+02 1.23e-01 5.27e-01  -3.8 2.72e+02  -5.3 9.60e-01 1.38e-01h  1\n",
      "  52  1.6682861e+02 3.13e+00 7.47e+00  -3.8 2.60e+02  -4.9 1.00e+00 1.00e+00f  1\n",
      "  53  1.6768245e+02 8.31e-01 4.79e+00  -3.8 1.01e+02  -4.4 1.00e+00 1.00e+00h  1\n",
      "  54  1.6658556e+02 2.93e-01 8.08e-01  -3.8 1.42e+02  -4.9 3.94e-01 1.00e+00h  1\n",
      "  55  1.6610888e+02 5.89e-01 7.43e-01  -3.8 1.67e+02  -5.4 6.53e-01 8.03e-01h  1\n",
      "  56  1.6567765e+02 5.10e-01 3.10e-01  -3.8 1.11e+02  -5.0 6.57e-01 1.00e+00h  1\n",
      "  57  1.6562984e+02 4.25e-01 2.49e-01  -3.8 8.85e+01  -4.5 1.00e+00 1.79e-01h  1\n",
      "  58  1.6508708e+02 9.64e-01 1.41e+00  -3.8 3.71e+02  -5.0 9.09e-01 3.37e-01h  1\n",
      "  59  1.6329084e+02 6.19e+00 2.05e+01  -3.8 7.18e+02  -4.6 6.74e-01 4.21e-01h  1\n",
      "iter    objective    inf_pr   inf_du lg(mu)  ||d||  lg(rg) alpha_du alpha_pr  ls\n",
      "  60  1.6329736e+02 6.17e+00 2.04e+01  -3.8 1.65e+02  -5.1 7.39e-02 4.46e-03h  1\n",
      "  61  1.6425200e+02 3.19e+00 1.14e+01  -3.8 8.27e+01  -4.6 1.00e+00 5.75e-01h  1\n",
      "  62  1.6500564e+02 1.15e+00 5.48e+00  -3.8 1.13e+02  -5.1 1.76e-01 1.00e+00h  1\n",
      "  63  1.6324308e+02 8.02e-01 3.01e+00  -3.8 2.07e+02  -4.7 8.24e-01 1.00e+00h  1\n",
      "  64  1.6286774e+02 8.60e-01 7.08e-01  -3.8 2.32e+02  -5.2 3.86e-01 7.83e-01h  1\n",
      "  65  1.6248832e+02 6.38e-01 4.20e-01  -3.8 1.14e+02  -4.7 1.00e+00 1.00e+00h  1\n",
      "  66  1.6234390e+02 2.65e-01 3.08e-01  -3.8 7.11e+01  -4.3 6.38e-01 6.45e-01h  1\n",
      "  67  1.6142826e+02 1.43e+00 4.39e+00  -3.8 4.17e+02  -4.8 2.84e-01 4.10e-01f  1\n",
      "  68  1.6162657e+02 4.20e-01 2.37e+00  -3.8 6.79e+01  -4.4 1.00e+00 7.83e-01h  1\n",
      "  69  1.6085142e+02 3.15e-01 7.47e-01  -3.8 1.09e+02  -4.8 7.19e-01 1.00e+00h  1\n",
      "iter    objective    inf_pr   inf_du lg(mu)  ||d||  lg(rg) alpha_du alpha_pr  ls\n",
      "  70  1.6049888e+02 2.87e-01 6.97e-01  -3.8 1.81e+02  -5.3 7.08e-01 3.22e-01h  1\n",
      "  71  1.5840665e+02 1.20e+01 4.28e+00  -3.8 1.28e+03  -5.8 5.50e-02 3.49e-01f  1\n",
      "  72  1.5984895e+02 6.47e+00 2.31e+00  -3.8 8.93e+01  -4.5 1.00e+00 5.15e-01h  1\n",
      "  73  1.6003264e+02 5.63e+00 2.20e+00  -3.8 1.38e+02  -4.0 7.69e-02 1.37e-01h  1\n",
      "  74  1.5990613e+02 9.83e-01 3.65e+00  -3.8 1.94e+02  -4.5 7.58e-01 1.00e+00h  1\n",
      "  75  1.5883944e+02 3.38e-01 9.07e-01  -3.8 8.88e+01  -5.0 8.53e-02 1.00e+00h  1\n",
      "  76  1.5772923e+02 1.50e+00 2.67e+00  -3.8 1.25e+02  -4.6 5.08e-01 1.00e+00h  1\n",
      "  77  1.5723467e+02 9.31e-01 1.33e+00  -3.8 1.68e+02  -5.0 9.96e-02 4.00e-01h  1\n",
      "  78  1.5698422e+02 9.31e-01 1.28e+00  -3.8 1.34e+03  -5.5 6.30e-02 1.62e-02h  1\n",
      "  79  1.5587957e+02 9.86e-01 5.04e-01  -3.8 2.08e+02  -5.1 4.12e-01 6.06e-01h  1\n",
      "iter    objective    inf_pr   inf_du lg(mu)  ||d||  lg(rg) alpha_du alpha_pr  ls\n",
      "  80  1.5475587e+02 1.59e+00 2.36e+00  -3.8 1.77e+02  -4.7 1.00e+00 9.00e-01h  1\n",
      "  81  1.5477952e+02 2.33e-02 4.27e-01  -3.8 4.64e+01  -4.2 8.22e-01 1.00e+00h  1\n",
      "  82  1.5417090e+02 2.30e-01 3.17e-01  -3.8 4.82e+01  -4.7 1.00e+00 1.00e+00h  1\n",
      "  83  1.5317234e+02 6.39e-01 8.36e-01  -3.8 1.84e+02  -5.2 7.09e-01 5.08e-01h  1\n",
      "  84  1.5227111e+02 7.28e-01 4.76e-01  -3.8 8.81e+01  -4.8 1.26e-01 1.00e+00h  1\n",
      "  85  1.5193496e+02 3.83e-01 4.31e-01  -3.8 7.91e+01  -4.3 1.00e+00 6.25e-01h  1\n",
      "  86  1.5047179e+02 2.83e+00 3.94e+00  -3.8 3.21e+02  -4.8 2.32e-01 5.07e-01h  1\n",
      "  87  1.5033200e+02 2.76e+00 3.83e+00  -3.8 4.91e+02  -5.3 3.98e-02 2.70e-02h  1\n",
      "  88  1.5018542e+02 1.39e+00 2.26e+00  -3.8 9.26e+01  -4.9 1.00e+00 5.04e-01h  1\n",
      "  89  1.4812406e+02 3.00e+00 2.16e+00  -3.8 6.99e+02  -5.3 5.41e-02 2.67e-01f  1\n",
      "iter    objective    inf_pr   inf_du lg(mu)  ||d||  lg(rg) alpha_du alpha_pr  ls\n",
      "  90  1.4859566e+02 1.67e+00 1.27e+00  -3.8 5.60e+01  -4.0 2.74e-02 4.93e-01h  1\n",
      "  91  1.4814190e+02 3.76e-01 3.50e-01  -3.8 7.99e+01  -4.5 2.08e-01 7.76e-01h  1\n",
      "  92  1.4741523e+02 5.08e-01 3.48e-01  -3.8 1.42e+02  -5.0 3.97e-01 4.39e-01f  1\n",
      "  93  1.4633513e+02 8.26e-01 1.08e+00  -3.8 3.41e+02  -5.4 2.77e-01 2.95e-01h  1\n",
      "  94  1.4593303e+02 7.68e-01 9.95e-01  -3.8 4.07e+02  -5.0 9.03e-02 8.53e-02h  1\n",
      "  95  1.4579208e+02 6.34e-01 8.04e-01  -3.8 1.02e+02  -4.6 7.61e-01 1.75e-01h  1\n",
      "  96  1.4576502e+02 3.06e-02 9.02e-02  -3.8 3.74e+01  -4.2 1.00e+00 1.00e+00h  1\n",
      "  97  1.4518298e+02 3.11e-01 5.50e-01  -3.8 1.19e+02  -4.6 4.80e-01 4.99e-01h  1\n",
      "  98  1.4500438e+02 2.21e-01 3.88e-01  -3.8 4.12e+01  -4.2 6.91e-01 3.33e-01h  1\n",
      "  99  1.4449907e+02 3.34e-01 4.33e-01  -3.8 1.28e+02  -4.7 4.62e-01 3.08e-01h  1\n",
      "iter    objective    inf_pr   inf_du lg(mu)  ||d||  lg(rg) alpha_du alpha_pr  ls\n",
      " 100  1.4369262e+02 5.90e-01 5.52e-01  -3.8 2.82e+02  -5.2 3.35e-01 2.57e-01h  1\n",
      " 101  1.4298034e+02 3.28e-01 3.82e-01  -3.8 7.64e+01  -4.8 1.00e+00 9.78e-01h  1\n",
      " 102  1.4279852e+02 3.45e-01 3.86e-01  -3.8 2.04e+03  -5.2 4.55e-02 6.72e-03f  1\n",
      " 103  1.4195449e+02 7.10e-01 7.50e-01  -3.8 1.79e+02  -4.8 3.49e-01 4.14e-01f  1\n",
      " 104  1.4169966e+02 5.71e-01 6.76e-01  -3.8 1.09e+02  -4.4 1.00e+00 2.47e-01h  1\n",
      " 105  1.4144150e+02 6.02e-01 7.52e-01  -3.8 2.45e+03  -4.9 1.96e-02 8.91e-03f  1\n",
      " 106  1.4089723e+02 3.48e-01 3.61e-01  -3.8 7.38e+01  -4.4 1.00e+00 7.22e-01h  1\n",
      " 107  1.4007426e+02 3.90e-01 5.70e-01  -3.8 1.09e+02  -4.9 8.05e-01 6.93e-01h  1\n",
      " 108  1.3970967e+02 4.43e-01 5.97e-01  -3.8 8.45e+02  -5.4 4.16e-02 3.69e-02h  1\n",
      " 109  1.3922952e+02 4.25e-01 5.34e-01  -3.8 2.00e+02  -5.0 5.85e-01 1.96e-01h  1\n",
      "iter    objective    inf_pr   inf_du lg(mu)  ||d||  lg(rg) alpha_du alpha_pr  ls\n",
      " 110  1.3847432e+02 5.15e-01 7.13e-01  -3.8 7.99e+01  -4.5 1.00e+00 1.00e+00h  1\n",
      " 111  1.3838162e+02 3.98e-01 5.61e-01  -3.8 4.23e+01  -4.1 3.18e-01 2.35e-01h  1\n",
      " 112  1.3762579e+02 5.81e-01 1.26e+00  -3.8 1.63e+02  -4.6 2.15e-01 4.35e-01h  1\n",
      " 113  1.3746765e+02 5.78e-01 1.22e+00  -3.8 4.74e+02  -5.1 1.47e-01 2.80e-02h  1\n",
      " 114  1.3666058e+02 2.85e-01 8.33e-01  -3.8 8.69e+01  -4.6 1.00e+00 9.73e-01h  1\n",
      " 115  1.3611369e+02 3.41e-01 6.78e-01  -3.8 1.80e+02  -5.1 2.40e-01 2.66e-01h  1\n",
      " 116  1.3530610e+02 4.77e-01 4.47e-01  -3.8 8.13e+01  -4.7 1.00e+00 8.25e-01h  1\n",
      " 117  1.3504761e+02 2.95e-01 3.57e-01  -3.8 6.33e+01  -4.3 1.00e+00 4.80e-01h  1\n",
      " 118  1.3464547e+02 3.59e-01 5.47e-01  -3.8 2.85e+02  -4.7 4.54e-02 1.28e-01h  1\n",
      " 119  1.3429705e+02 2.35e-01 4.28e-01  -3.8 5.94e+01  -4.3 8.15e-01 5.10e-01h  1\n",
      "iter    objective    inf_pr   inf_du lg(mu)  ||d||  lg(rg) alpha_du alpha_pr  ls\n",
      " 120  1.3332797e+02 6.88e-01 6.86e-01  -3.8 1.44e+02  -4.8 2.66e-01 5.27e-01h  1\n",
      " 121  1.3245453e+02 6.76e-01 8.55e-01  -3.8 3.18e+02  -5.3 1.79e-01 2.24e-01h  1\n",
      " 122  1.3131420e+02 8.16e-01 6.45e-01  -3.8 1.62e+02  -4.8 7.86e-01 5.30e-01h  1\n",
      " 123  1.3107848e+02 6.75e-01 6.19e-01  -3.8 1.29e+02  -4.4 6.12e-01 1.95e-01h  1\n",
      " 124  1.3103711e+02 2.45e-01 2.97e-01  -3.8 3.57e+01  -4.0 1.00e+00 6.36e-01h  1\n",
      " 125  1.3061970e+02 2.00e-01 3.39e-01  -3.8 7.30e+01  -4.5 9.57e-01 4.94e-01h  1\n",
      " 126  1.2938173e+02 1.07e+00 1.11e+00  -3.8 2.01e+02  -4.9 7.08e-02 4.60e-01h  1\n",
      " 127  1.2878402e+02 1.06e+00 1.16e+00  -3.8 1.23e+03  -5.4 2.36e-02 4.47e-02h  1\n",
      " 128  1.2831727e+02 9.78e-01 1.08e+00  -3.8 3.35e+02  -5.0 2.96e-01 9.78e-02h  1\n",
      " 129  1.2780697e+02 3.94e-01 2.87e-01  -3.8 8.41e+01  -4.6 6.23e-01 5.79e-01h  1\n",
      "iter    objective    inf_pr   inf_du lg(mu)  ||d||  lg(rg) alpha_du alpha_pr  ls\n",
      " 130  1.2764876e+02 1.37e-01 1.20e-01  -3.8 4.07e+01  -4.1 1.00e+00 6.45e-01h  1\n",
      " 131  1.2660311e+02 7.52e-01 1.96e+00  -3.8 1.75e+02  -4.6 4.42e-01 5.39e-01h  1\n",
      " 132  1.2651234e+02 5.56e-01 1.44e+00  -3.8 4.22e+01  -4.2 9.08e-01 2.60e-01h  1\n",
      " 133  1.2551035e+02 4.86e-01 8.36e-01  -3.8 1.08e+02  -4.7 3.40e-01 8.10e-01h  1\n",
      " 134  1.2473341e+02 4.51e-01 8.74e-01  -3.8 2.07e+02  -5.1 3.54e-01 2.85e-01h  1\n",
      " 135  1.2417839e+02 4.21e-01 5.75e-01  -3.8 1.22e+02  -4.7 7.04e-01 3.37e-01h  1\n",
      " 136  1.2373679e+02 2.00e-01 4.23e-01  -3.8 6.38e+01  -4.3 8.85e-01 8.39e-01h  1\n",
      " 137  1.2311681e+02 4.22e-01 1.08e+00  -3.8 6.50e+02  -4.8 1.24e-01 8.37e-02f  1\n",
      " 138  1.2236145e+02 3.76e-01 6.00e-01  -3.8 7.51e+01  -4.3 5.34e-01 8.40e-01h  1\n",
      " 139  1.2211093e+02 3.17e-01 4.89e-01  -3.8 9.36e+01  -4.8 7.93e-01 1.88e-01h  1\n",
      "iter    objective    inf_pr   inf_du lg(mu)  ||d||  lg(rg) alpha_du alpha_pr  ls\n",
      " 140  1.2049690e+02 1.53e+00 1.70e+00  -3.8 2.61e+02  -5.3 1.21e-01 4.89e-01f  1\n",
      " 141  1.1784388e+02 3.91e+00 6.68e+00  -3.8 8.79e+02  -4.9 2.78e-02 2.15e-01f  1\n",
      " 142  1.1850093e+02 2.50e+00 4.29e+00  -3.8 6.05e+01  -4.4 1.00e+00 3.88e-01h  1\n",
      " 143  1.1727222e+02 1.23e+00 1.03e+00  -3.8 2.24e+02  -4.9 9.27e-02 4.80e-01h  1\n",
      " 144  1.1667431e+02 1.07e+00 8.23e-01  -3.8 3.53e+02  -5.4 3.15e-02 1.31e-01h  1\n",
      " 145  1.1575763e+02 6.69e-01 5.10e-01  -3.8 1.75e+02  -5.0 5.19e-02 4.72e-01h  1\n",
      " 146  1.1570462e+02 6.46e-01 4.94e-01  -3.8 1.65e+02  -4.5 3.42e-01 3.74e-02h  1\n",
      " 147  1.1569846e+02 2.39e-01 2.55e-01  -3.8 4.56e+01  -4.1 1.72e-01 6.68e-01h  1\n",
      " 148  1.1535344e+02 2.30e-01 3.67e-01  -3.8 1.33e+02  -4.6 4.11e-01 2.33e-01h  1\n",
      " 149  1.1526696e+02 1.77e-01 2.82e-01  -3.8 3.38e+01  -4.2 7.48e-01 2.38e-01h  1\n",
      "iter    objective    inf_pr   inf_du lg(mu)  ||d||  lg(rg) alpha_du alpha_pr  ls\n",
      " 150  1.1439997e+02 4.89e-01 5.49e-01  -3.8 1.00e+02  -4.7 2.41e-01 6.19e-01h  1\n",
      " 151  1.1432451e+02 3.17e-01 3.60e-01  -3.8 2.92e+01  -4.2 1.00e+00 3.51e-01h  1\n",
      " 152  1.1427311e+02 2.98e-01 3.39e-01  -3.8 7.31e+01  -4.7 3.92e-01 6.04e-02h  1\n",
      " 153  1.1282316e+02 1.64e+00 1.49e+00  -3.8 1.81e+02  -5.2 4.51e-02 7.58e-01h  1\n",
      " 154  1.1240709e+02 1.33e+00 1.16e+00  -3.8 1.76e+02  -4.8 2.66e-01 1.95e-01h  1\n",
      " 155  1.1200350e+02 1.43e-01 4.77e-01  -3.8 6.18e+01  -4.3 1.00e+00 1.00e+00h  1\n",
      " 156  1.1188970e+02 1.43e-01 4.71e-01  -3.8 1.70e+02  -4.8 3.65e-01 5.22e-02h  1\n",
      " 157  1.1157275e+02 2.02e-01 6.14e-01  -3.8 2.20e+03  -5.3 2.90e-02 1.09e-02f  1\n",
      " 158  1.1146228e+02 2.02e-01 6.04e-01  -3.8 1.87e+02  -4.9 4.59e-01 3.73e-02h  1\n",
      " 159  1.0981273e+02 2.40e+00 3.69e+00  -3.8 4.69e+03  -5.3 9.14e-03 2.50e-02f  1\n",
      "iter    objective    inf_pr   inf_du lg(mu)  ||d||  lg(rg) alpha_du alpha_pr  ls\n",
      " 160  1.1017587e+02 1.03e+00 2.34e+00  -3.8 5.28e+01  -4.0 1.00e+00 6.25e-01h  1\n",
      " 161  1.1001284e+02 6.94e-01 1.59e+00  -3.8 4.67e+01  -4.5 4.57e-01 3.28e-01h  1\n",
      " 162  1.0898801e+02 8.52e-01 7.74e-01  -3.8 1.02e+02  -5.0 2.08e-01 9.01e-01h  1\n",
      " 163  1.0875946e+02 6.88e-01 6.22e-01  -3.8 7.68e+01  -4.5 7.18e-01 2.11e-01h  1\n",
      " 164  1.0857363e+02 6.83e-01 6.12e-01  -3.8 4.56e+02  -5.0 1.61e-01 2.74e-02h  1\n",
      " 165  1.0770699e+02 5.36e-01 1.68e+00  -3.8 8.42e+01  -4.6 7.37e-01 1.00e+00h  1\n",
      " 166  1.0759406e+02 5.28e-01 1.66e+00  -3.8 3.32e+02  -5.1 8.07e-02 2.23e-02h  1\n",
      " 167  1.0732583e+02 3.66e-01 1.09e+00  -3.8 7.51e+01  -4.6 9.52e-01 3.42e-01h  1\n",
      " 168  1.0690551e+02 4.10e-01 9.22e-01  -3.8 2.24e+02  -5.1 1.85e-01 1.61e-01h  1\n",
      " 169  1.0655423e+02 2.54e-01 2.83e-01  -3.8 7.68e+01  -4.7 9.14e-01 5.58e-01h  1\n",
      "iter    objective    inf_pr   inf_du lg(mu)  ||d||  lg(rg) alpha_du alpha_pr  ls\n",
      " 170  1.0583056e+02 6.07e-01 8.01e-01  -3.8 2.76e+02  -5.2 4.82e-01 2.47e-01h  1\n",
      " 171  1.0508046e+02 5.80e-01 1.29e+00  -3.8 1.06e+02  -4.7 7.34e-01 7.08e-01h  1\n",
      " 172  1.0507627e+02 5.61e-01 1.25e+00  -3.8 3.10e+01  -4.3 8.84e-01 3.38e-02h  1\n",
      " 173  1.0473222e+02 5.00e-01 1.30e+00  -3.8 1.30e+02  -4.8 2.86e-01 2.44e-01h  1\n",
      " 174  1.0471962e+02 4.14e-01 1.07e+00  -3.8 3.11e+01  -4.4 1.00e+00 1.73e-01h  1\n",
      " 175  1.0445871e+02 3.52e-01 9.46e-01  -3.8 1.03e+02  -4.8 5.73e-01 2.37e-01h  1\n",
      " 176  1.0387818e+02 5.13e-01 1.13e+00  -3.8 7.43e+02  -5.3 1.37e-01 7.29e-02f  1\n",
      " 177  1.0373210e+02 4.68e-01 9.73e-01  -3.8 1.33e+02  -4.9 1.00e+00 1.16e-01h  1\n",
      " 178  1.0337109e+02 5.33e-01 8.62e-01  -3.8 1.95e+03  -5.4 7.81e-03 1.52e-02f  1\n",
      " 179  1.0303823e+02 4.00e-01 6.75e-01  -3.8 9.48e+01  -4.9 9.34e-01 6.39e-01h  1\n",
      "iter    objective    inf_pr   inf_du lg(mu)  ||d||  lg(rg) alpha_du alpha_pr  ls\n",
      " 180  1.0316410e+02 1.28e-01 3.13e-01  -3.8 2.93e+01  -4.5 1.00e+00 7.20e-01h  1\n",
      " 181  1.0305199e+02 1.31e-01 5.10e-01  -3.8 8.97e+01  -5.0 2.46e-01 2.53e-01h  1\n",
      " 182  1.0304371e+02 1.31e-01 5.10e-01  -3.8 2.80e+03  -5.5 2.80e-02 3.34e-04h  1\n",
      " 183  1.0285512e+02 2.07e-01 9.61e-01  -3.8 1.12e+02  -5.0 1.00e+00 3.00e-01f  1\n",
      " 184  1.0283394e+02 1.88e-01 8.72e-01  -3.8 3.68e+01  -4.6 1.00e+00 9.35e-02h  1\n",
      " 185  1.0249462e+02 4.41e-01 1.40e+00  -3.8 9.79e+01  -5.1 7.92e-01 6.35e-01h  1\n",
      " 186  1.0222945e+02 4.63e-01 1.68e+00  -3.8 2.53e+02  -5.6 7.51e-03 1.33e-01h  1\n",
      " 187  1.0223066e+02 4.15e-01 1.51e+00  -3.8 4.05e+01  -5.1 1.00e+00 1.05e-01h  1\n",
      " 188  1.0218451e+02 3.19e-01 1.15e+00  -3.8 7.43e+01  -5.6 7.33e-01 2.69e-01h  1\n",
      " 189  1.0215365e+02 2.87e-01 1.03e+00  -3.8 1.15e+02  -6.1 1.00e+00 1.37e-01h  1\n",
      "iter    objective    inf_pr   inf_du lg(mu)  ||d||  lg(rg) alpha_du alpha_pr  ls\n",
      " 190  1.0240718e+02 3.92e-02 2.60e-01  -3.8 2.74e+01  -5.7 1.00e+00 1.00e+00h  1\n",
      " 191  1.0244453e+02 5.55e-03 3.59e-02  -3.8 4.36e+00  -4.3 1.00e+00 1.00e+00h  1\n",
      " 192  1.0241548e+02 1.71e-03 1.53e-02  -3.8 1.96e+00  -3.9 1.00e+00 1.00e+00h  1\n",
      " 193  1.0239993e+02 7.87e-03 6.30e-02  -3.8 2.13e+01  -4.4 2.51e-01 2.50e-01h  3\n",
      " 194  1.0234853e+02 7.08e-03 5.94e-02  -3.8 5.10e+00  -4.0 6.94e-01 1.00e+00h  1\n",
      " 195  1.0227699e+02 3.56e-02 3.10e-01  -3.8 2.11e+01  -4.4 1.14e-01 1.00e+00h  1\n",
      " 196  1.0219238e+02 2.99e-02 2.45e-01  -3.8 5.04e+01  -4.9 6.97e-01 2.16e-01h  1\n",
      " 197  1.0208371e+02 3.09e-01 7.63e-01  -3.8 6.14e+02  -5.4 7.77e-02 8.71e-02h  1\n",
      " 198  1.0150797e+02 1.04e+00 2.03e+00  -3.8 9.61e+01  -5.0 3.78e-01 1.00e+00h  1\n",
      " 199  1.0143915e+02 7.93e-01 1.51e+00  -3.8 7.06e+01  -5.5 5.26e-01 2.43e-01h  1\n",
      "iter    objective    inf_pr   inf_du lg(mu)  ||d||  lg(rg) alpha_du alpha_pr  ls\n",
      " 200  1.0142990e+02 7.71e-01 1.47e+00  -3.8 8.28e+01  -5.9 3.80e-01 2.86e-02h  1\n",
      " 201  1.0129630e+02 6.30e-01 1.13e+00  -3.8 1.33e+02  -6.4 3.53e-01 2.34e-01h  1\n",
      " 202  1.0126587e+02 5.87e-01 1.04e+00  -3.8 1.32e+02  -6.9 2.00e-01 7.46e-02h  1\n",
      " 203  1.0127570e+02 5.83e-01 1.03e+00  -3.8 9.89e+01  -7.4 9.45e-03 5.11e-03H  1\n",
      " 204  1.0130296e+02 5.83e-01 1.03e+00  -3.8 1.27e+03  -7.8 4.96e-02 3.70e-03h  4\n",
      " 205  1.0130431e+02 5.70e-01 1.01e+00  -3.8 4.75e+01  -5.6 9.06e-01 2.08e-02h  1\n",
      " 206  1.0132606e+02 2.31e-01 4.21e-01  -3.8 6.56e+01  -6.1 5.45e-01 6.58e-01h  1\n",
      " 207  1.0146657e+02 2.46e-01 7.73e-01  -3.8 5.76e+01  -6.6 1.00e+00 9.27e-01h  1\n",
      " 208  1.0147044e+02 2.41e-01 7.55e-01  -3.8 5.56e+01  -7.0 1.07e-01 2.39e-02h  1\n",
      " 209  1.0164664e+02 2.27e-01 5.67e-01  -3.8 4.98e+01  -7.5 3.25e-01 7.37e-01h  1\n",
      "iter    objective    inf_pr   inf_du lg(mu)  ||d||  lg(rg) alpha_du alpha_pr  ls\n",
      " 210  1.0147411e+02 5.69e-02 1.26e-01  -3.8 2.02e+01  -8.0 4.78e-01 1.00e+00h  1\n",
      " 211  1.0150192e+02 4.25e-04 1.81e-03  -3.8 3.12e+00  -8.5 1.00e+00 1.00e+00h  1\n",
      " 212  1.0150241e+02 6.32e-05 1.97e-04  -3.8 8.02e-01  -8.9 1.00e+00 1.00e+00h  1\n",
      " 213  1.0149785e+02 1.28e-04 2.97e-04  -5.7 9.99e-01  -9.4 9.89e-01 9.99e-01h  1\n",
      " 214  1.0149774e+02 4.24e-06 1.02e-05  -5.7 1.75e-01  -9.9 1.00e+00 1.00e+00h  1\n",
      " 215  1.0149768e+02 6.03e-07 1.20e-06  -8.6 6.92e-02 -10.4 9.97e-01 1.00e+00h  1\n",
      " 216  1.0149768e+02 6.01e-10 1.17e-09  -8.6 2.18e-03 -10.9 1.00e+00 1.00e+00h  1\n",
      "\n",
      "Number of Iterations....: 216\n",
      "\n",
      "                                   (scaled)                 (unscaled)\n",
      "Objective...............:   1.0149767957721143e+02    1.0149767957721143e+02\n",
      "Dual infeasibility......:   1.1716325687416429e-09    1.1716325687416429e-09\n",
      "Constraint violation....:   6.0063864992798699e-10    6.0063864992798699e-10\n",
      "Variable bound violation:   3.8926596168664673e-08    3.8926596168664673e-08\n",
      "Complementarity.........:   2.8290430915834569e-09    2.8290430915834569e-09\n",
      "Overall NLP error.......:   2.8290430915834569e-09    2.8290430915834569e-09\n",
      "\n",
      "\n",
      "Number of objective function evaluations             = 226\n",
      "Number of objective gradient evaluations             = 217\n",
      "Number of equality constraint evaluations            = 226\n",
      "Number of inequality constraint evaluations          = 0\n",
      "Number of equality constraint Jacobian evaluations   = 217\n",
      "Number of inequality constraint Jacobian evaluations = 0\n",
      "Number of Lagrangian Hessian evaluations             = 216\n",
      "Total seconds in IPOPT                               = 4.442\n",
      "\n",
      "EXIT: Optimal Solution Found.\n",
      "           S  :   t_proc      (avg)   t_wall      (avg)    n_eval\n",
      "       nlp_f  |  12.00ms ( 53.10us)  13.75ms ( 60.82us)       226\n",
      "       nlp_g  |  90.00ms (398.23us)  82.35ms (364.38us)       226\n",
      "  nlp_grad_f  |  31.00ms (142.20us)  28.22ms (129.43us)       218\n",
      "  nlp_hess_l  | 183.00ms (847.22us) 185.55ms (859.03us)       216\n",
      "   nlp_jac_g  | 152.00ms (697.25us) 153.64ms (704.78us)       218\n",
      "       total  |   4.44 s (  4.44 s)   4.44 s (  4.44 s)         1\n"
     ]
    }
   ],
   "source": [
    "u0 = mpc.make_step(x0)"
   ]
  },
  {
   "cell_type": "code",
   "execution_count": 34,
   "metadata": {},
   "outputs": [
    {
     "data": {
      "image/png": "[encoded data removed]",
      "text/plain": [
       "<Figure size 1600x900 with 5 Axes>"
      ]
     },
     "execution_count": 34,
     "metadata": {},
     "output_type": "execute_result"
    }
   ],
   "source": [
    "line1, line2 = pendulum_bars(x0)\n",
    "bar1[0].set_data(line1[0],line1[1])\n",
    "bar2[0].set_data(line2[0],line2[1])\n",
    "mpc_graphics.plot_predictions()\n",
    "mpc_graphics.reset_axes()\n",
    "\n",
    "fig"
   ]
  },
  {
   "attachments": {},
   "cell_type": "markdown",
   "metadata": {},
   "source": [
    "### Run closed-loop"
   ]
  },
  {
   "cell_type": "code",
   "execution_count": 35,
   "metadata": {},
   "outputs": [],
   "source": [
    "%%capture\n",
    "# Quickly reset the history of the MPC data object.\n",
    "mpc.reset_history()\n",
    "\n",
    "n_steps = 100\n",
    "for k in range(n_steps):\n",
    "    u0 = mpc.make_step(x0)\n",
    "    y_next = simulator.make_step(u0)\n",
    "    x0 = estimator.make_step(y_next)"
   ]
  },
  {
   "attachments": {},
   "cell_type": "markdown",
   "metadata": {},
   "source": [
    "### Results"
   ]
  },
  {
   "cell_type": "code",
   "execution_count": 37,
   "metadata": {},
   "outputs": [],
   "source": [
    "from matplotlib.animation import FuncAnimation, FFMpegWriter, ImageMagickWriter\n",
    "\n",
    "# The function describing the gif:\n",
    "x_arr = mpc.data['_x']\n",
    "def update(t_ind):\n",
    "    line1, line2 = pendulum_bars(x_arr[t_ind])\n",
    "    bar1[0].set_data(line1[0],line1[1])\n",
    "    bar2[0].set_data(line2[0],line2[1])\n",
    "    mpc_graphics.plot_results(t_ind)\n",
    "    mpc_graphics.plot_predictions(t_ind)\n",
    "    mpc_graphics.reset_axes()\n",
    "\n",
    "\n",
    "anim = FuncAnimation(fig, update, frames=n_steps, repeat=False)\n",
    "gif_writer = ImageMagickWriter(fps=20)\n",
    "anim.save('anim_dip.gif', writer=gif_writer)"
   ]
  },
  {
   "cell_type": "code",
   "execution_count": null,
   "metadata": {},
   "outputs": [],
   "source": []
  }
 ],
 "metadata": {
  "kernelspec": {
   "display_name": "base",
   "language": "python",
   "name": "python3"
  },
  "language_info": {
   "codemirror_mode": {
    "name": "ipython",
    "version": 3
   },
   "file_extension": ".py",
   "mimetype": "text/x-python",
   "name": "python",
   "nbconvert_exporter": "python",
   "pygments_lexer": "ipython3",
   "version": "3.10.9"
  },
  "orig_nbformat": 4
 },
 "nbformat": 4,
 "nbformat_minor": 2
}
