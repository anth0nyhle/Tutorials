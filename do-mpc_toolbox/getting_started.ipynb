{
 "cells": [
  {
   "attachments": {},
   "cell_type": "markdown",
   "metadata": {},
   "source": [
    "# Getting started: MPC\n",
    "\n",
    "This notebook illustrates the core functionalities of do-mpc toolbox.  \n",
    "Link: https://www.do-mpc.com/en/latest/getting_started.html"
   ]
  },
  {
   "cell_type": "code",
   "execution_count": 44,
   "metadata": {},
   "outputs": [],
   "source": [
    "import numpy as np # import numpy\n",
    "import do_mpc # import do-mpc"
   ]
  },
  {
   "attachments": {},
   "cell_type": "markdown",
   "metadata": {},
   "source": [
    "## Creating the model"
   ]
  },
  {
   "cell_type": "code",
   "execution_count": 45,
   "metadata": {},
   "outputs": [],
   "source": [
    "model_type = 'continuous' # either 'discrete' or 'continuous'\n",
    "model = do_mpc.model.Model(model_type)"
   ]
  },
  {
   "attachments": {},
   "cell_type": "markdown",
   "metadata": {},
   "source": [
    "### Model variables"
   ]
  },
  {
   "cell_type": "code",
   "execution_count": 46,
   "metadata": {},
   "outputs": [],
   "source": [
    "# Define model variables:\n",
    "phi_1 = model.set_variable(var_type='_x', var_name='phi_1', shape=(1,1)) \n",
    "phi_2 = model.set_variable(var_type='_x', var_name='phi_2', shape=(1,1))\n",
    "phi_3 = model.set_variable(var_type='_x', var_name='phi_3', shape=(1,1))\n",
    "\n",
    "# Variables can also be vectors:\n",
    "dphi = model.set_variable(var_type='_x', var_name='dphi', shape=(3,1))\n",
    "\n",
    "# Two states for the desired (set) motor position:\n",
    "phi_m_1_set = model.set_variable(var_type='_u', var_name='phi_m_1_set')\n",
    "phi_m_2_set = model.set_variable(var_type='_u', var_name='phi_m_2_set')\n",
    "\n",
    "# Two additional states for the true motor position:\n",
    "phi_1_m = model.set_variable(var_type='_x', var_name='phi_1_m', shape=(1,1))\n",
    "phi_2_m = model.set_variable(var_type='_x', var_name='phi_2_m', shape=(1,1))"
   ]
  },
  {
   "cell_type": "code",
   "execution_count": 47,
   "metadata": {},
   "outputs": [
    {
     "name": "stdout",
     "output_type": "stream",
     "text": [
      "phi_1=phi_1, with phi_1.shape=(1, 1)\n",
      "dphi=[dphi_0, dphi_1, dphi_2], with dphi.shape=(3, 1)\n"
     ]
    }
   ],
   "source": [
    "print('phi_1={}, with phi_1.shape={}'.format(phi_1, phi_1.shape))\n",
    "print('dphi={}, with dphi.shape={}'.format(dphi, dphi.shape))"
   ]
  },
  {
   "attachments": {},
   "cell_type": "markdown",
   "metadata": {},
   "source": [
    "### Query variables"
   ]
  },
  {
   "cell_type": "code",
   "execution_count": 48,
   "metadata": {},
   "outputs": [
    {
     "data": {
      "text/plain": [
       "<do_mpc.tools._casstructure._struct_SX at 0x22096003df0>"
      ]
     },
     "execution_count": 48,
     "metadata": {},
     "output_type": "execute_result"
    }
   ],
   "source": [
    "model.x"
   ]
  },
  {
   "cell_type": "code",
   "execution_count": 49,
   "metadata": {},
   "outputs": [
    {
     "data": {
      "text/plain": [
       "SX(phi_1)"
      ]
     },
     "execution_count": 49,
     "metadata": {},
     "output_type": "execute_result"
    }
   ],
   "source": [
    "model.x['phi_1']"
   ]
  },
  {
   "cell_type": "code",
   "execution_count": 50,
   "metadata": {},
   "outputs": [
    {
     "data": {
      "text/plain": [
       "True"
      ]
     },
     "execution_count": 50,
     "metadata": {},
     "output_type": "execute_result"
    }
   ],
   "source": [
    "bool(model.x['phi_1'] == phi_1)"
   ]
  },
  {
   "cell_type": "code",
   "execution_count": 51,
   "metadata": {},
   "outputs": [
    {
     "data": {
      "text/plain": [
       "SX(dphi_0)"
      ]
     },
     "execution_count": 51,
     "metadata": {},
     "output_type": "execute_result"
    }
   ],
   "source": [
    "model.x['dphi', 0]"
   ]
  },
  {
   "cell_type": "code",
   "execution_count": 52,
   "metadata": {},
   "outputs": [
    {
     "data": {
      "text/plain": [
       "['phi_1', 'phi_2', 'phi_3', 'dphi', 'phi_1_m', 'phi_2_m']"
      ]
     },
     "execution_count": 52,
     "metadata": {},
     "output_type": "execute_result"
    }
   ],
   "source": [
    "model.x.keys()"
   ]
  },
  {
   "cell_type": "code",
   "execution_count": 53,
   "metadata": {},
   "outputs": [
    {
     "data": {
      "text/plain": [
       "['[phi_1,0]',\n",
       " '[phi_2,0]',\n",
       " '[phi_3,0]',\n",
       " '[dphi,0]',\n",
       " '[dphi,1]',\n",
       " '[dphi,2]',\n",
       " '[phi_1_m,0]',\n",
       " '[phi_2_m,0]']"
      ]
     },
     "execution_count": 53,
     "metadata": {},
     "output_type": "execute_result"
    }
   ],
   "source": [
    "model.x.labels()"
   ]
  },
  {
   "attachments": {},
   "cell_type": "markdown",
   "metadata": {},
   "source": [
    "### Model parameters"
   ]
  },
  {
   "cell_type": "code",
   "execution_count": 54,
   "metadata": {},
   "outputs": [],
   "source": [
    "# As shown in the table above, we can use long names or short names for the variable type.\n",
    "Theta_1 = model.set_variable('parameter', 'Theta_1')\n",
    "Theta_2 = model.set_variable('parameter', 'Theta_2')\n",
    "Theta_3 = model.set_variable('parameter', 'Theta_3')\n",
    "\n",
    "c = np.array([2.697,  2.66,  3.05, 2.86])*1e-3 \n",
    "d = np.array([6.78,  8.01,  8.82])*1e-5 "
   ]
  },
  {
   "attachments": {},
   "cell_type": "markdown",
   "metadata": {},
   "source": [
    "### Right-hand side equation"
   ]
  },
  {
   "cell_type": "code",
   "execution_count": 55,
   "metadata": {},
   "outputs": [],
   "source": [
    "model.set_rhs('phi_1', dphi[0])\n",
    "model.set_rhs('phi_2', dphi[1])\n",
    "model.set_rhs('phi_3', dphi[2])"
   ]
  },
  {
   "cell_type": "code",
   "execution_count": 56,
   "metadata": {},
   "outputs": [],
   "source": [
    "from casadi import *"
   ]
  },
  {
   "cell_type": "code",
   "execution_count": 57,
   "metadata": {},
   "outputs": [],
   "source": [
    "dphi_next = vertcat(\n",
    "    -c[0]/Theta_1*(phi_1-phi_1_m)-c[1]/Theta_1*(phi_1-phi_2)-d[0]/Theta_1*dphi[0],\n",
    "    -c[1]/Theta_2*(phi_2-phi_1)-c[2]/Theta_2*(phi_2-phi_3)-d[1]/Theta_2*dphi[1],\n",
    "    -c[2]/Theta_3*(phi_3-phi_2)-c[3]/Theta_3*(phi_3-phi_2_m)-d[2]/Theta_3*dphi[2],\n",
    ")\n",
    "\n",
    "model.set_rhs('dphi', dphi_next)"
   ]
  },
  {
   "cell_type": "code",
   "execution_count": 58,
   "metadata": {},
   "outputs": [],
   "source": [
    "tau = 1e-2\n",
    "model.set_rhs('phi_1_m', 1/tau*(phi_m_1_set - phi_1_m))\n",
    "model.set_rhs('phi_2_m', 1/tau*(phi_m_2_set - phi_2_m))"
   ]
  },
  {
   "cell_type": "code",
   "execution_count": 59,
   "metadata": {},
   "outputs": [],
   "source": [
    "model.setup() # call to complete model setup"
   ]
  },
  {
   "attachments": {},
   "cell_type": "markdown",
   "metadata": {},
   "source": [
    "## Configuring the MPC controller"
   ]
  },
  {
   "cell_type": "code",
   "execution_count": 60,
   "metadata": {},
   "outputs": [],
   "source": [
    "mpc = do_mpc.controller.MPC(model)"
   ]
  },
  {
   "attachments": {},
   "cell_type": "markdown",
   "metadata": {},
   "source": [
    "### Optimizer parameters"
   ]
  },
  {
   "cell_type": "code",
   "execution_count": 61,
   "metadata": {},
   "outputs": [],
   "source": [
    "setup_mpc = {\n",
    "    'n_horizon': 20,\n",
    "    't_step': 0.1,\n",
    "    'n_robust': 1,\n",
    "    'store_full_solution': True,\n",
    "}\n",
    "mpc.set_param(**setup_mpc)"
   ]
  },
  {
   "attachments": {},
   "cell_type": "markdown",
   "metadata": {},
   "source": [
    "### Objective function"
   ]
  },
  {
   "cell_type": "code",
   "execution_count": 62,
   "metadata": {},
   "outputs": [],
   "source": [
    "mterm = phi_1**2 + phi_2**2 + phi_3**2\n",
    "lterm = phi_1**2 + phi_2**2 + phi_3**2\n",
    "\n",
    "mpc.set_objective(mterm=mterm, lterm=lterm)"
   ]
  },
  {
   "cell_type": "code",
   "execution_count": 63,
   "metadata": {},
   "outputs": [],
   "source": [
    "mpc.set_rterm(\n",
    "    phi_m_1_set=1e-2,\n",
    "    phi_m_2_set=1e-2\n",
    ")"
   ]
  },
  {
   "attachments": {},
   "cell_type": "markdown",
   "metadata": {},
   "source": [
    "### Constraints"
   ]
  },
  {
   "cell_type": "code",
   "execution_count": 64,
   "metadata": {},
   "outputs": [],
   "source": [
    "# Lower bounds on states:\n",
    "mpc.bounds['lower','_x', 'phi_1'] = -2*np.pi\n",
    "mpc.bounds['lower','_x', 'phi_2'] = -2*np.pi\n",
    "mpc.bounds['lower','_x', 'phi_3'] = -2*np.pi\n",
    "# Upper bounds on states\n",
    "mpc.bounds['upper','_x', 'phi_1'] = 2*np.pi\n",
    "mpc.bounds['upper','_x', 'phi_2'] = 2*np.pi\n",
    "mpc.bounds['upper','_x', 'phi_3'] = 2*np.pi\n",
    "\n",
    "# Lower bounds on inputs:\n",
    "mpc.bounds['lower','_u', 'phi_m_1_set'] = -2*np.pi\n",
    "mpc.bounds['lower','_u', 'phi_m_2_set'] = -2*np.pi\n",
    "# Lower bounds on inputs:\n",
    "mpc.bounds['upper','_u', 'phi_m_1_set'] = 2*np.pi\n",
    "mpc.bounds['upper','_u', 'phi_m_2_set'] = 2*np.pi"
   ]
  },
  {
   "attachments": {},
   "cell_type": "markdown",
   "metadata": {},
   "source": [
    "### Scaling"
   ]
  },
  {
   "cell_type": "code",
   "execution_count": 65,
   "metadata": {},
   "outputs": [],
   "source": [
    "mpc.scaling['_x', 'phi_1'] = 2\n",
    "mpc.scaling['_x', 'phi_2'] = 2\n",
    "mpc.scaling['_x', 'phi_3'] = 2"
   ]
  },
  {
   "attachments": {},
   "cell_type": "markdown",
   "metadata": {},
   "source": [
    "### Uncertain parameters"
   ]
  },
  {
   "cell_type": "code",
   "execution_count": 66,
   "metadata": {},
   "outputs": [],
   "source": [
    "inertia_mass_1 = 2.25*1e-4*np.array([1., 0.9, 1.1])\n",
    "inertia_mass_2 = 2.25*1e-4*np.array([1., 0.9, 1.1])\n",
    "inertia_mass_3 = 2.25*1e-4*np.array([1.])\n",
    "\n",
    "mpc.set_uncertainty_values(\n",
    "    Theta_1 = inertia_mass_1,\n",
    "    Theta_2 = inertia_mass_2,\n",
    "    Theta_3 = inertia_mass_3\n",
    ")"
   ]
  },
  {
   "attachments": {},
   "cell_type": "markdown",
   "metadata": {},
   "source": [
    "### Setup"
   ]
  },
  {
   "cell_type": "code",
   "execution_count": 67,
   "metadata": {},
   "outputs": [],
   "source": [
    "mpc.setup() # call to finalize the setup and creates the optimization problem"
   ]
  },
  {
   "attachments": {},
   "cell_type": "markdown",
   "metadata": {},
   "source": [
    "## Configuring the simulator"
   ]
  },
  {
   "cell_type": "code",
   "execution_count": 77,
   "metadata": {},
   "outputs": [],
   "source": [
    "simulator = do_mpc.simulator.Simulator(model)"
   ]
  },
  {
   "cell_type": "code",
   "execution_count": 78,
   "metadata": {},
   "outputs": [
    {
     "name": "stdout",
     "output_type": "stream",
     "text": [
      "<do_mpc.simulator.Simulator object at 0x00000220966BDAB0>\n"
     ]
    }
   ],
   "source": [
    "print(simulator)"
   ]
  },
  {
   "attachments": {},
   "cell_type": "markdown",
   "metadata": {},
   "source": [
    "### Simulator parameters"
   ]
  },
  {
   "cell_type": "code",
   "execution_count": 69,
   "metadata": {},
   "outputs": [],
   "source": [
    "# Instead of supplying a dict with the splat operator (**), as with the optimizer.set_param(),\n",
    "# we can also use keywords (and call the method multiple times, if necessary):\n",
    "simulator.set_param(t_step = 0.1)"
   ]
  },
  {
   "attachments": {},
   "cell_type": "markdown",
   "metadata": {},
   "source": [
    "### Uncertain parameters"
   ]
  },
  {
   "cell_type": "code",
   "execution_count": 70,
   "metadata": {},
   "outputs": [],
   "source": [
    "p_template = simulator.get_p_template()"
   ]
  },
  {
   "cell_type": "code",
   "execution_count": 71,
   "metadata": {},
   "outputs": [
    {
     "data": {
      "text/plain": [
       "casadi.tools.structure3.DMStruct"
      ]
     },
     "execution_count": 71,
     "metadata": {},
     "output_type": "execute_result"
    }
   ],
   "source": [
    "type(p_template)"
   ]
  },
  {
   "cell_type": "code",
   "execution_count": 72,
   "metadata": {},
   "outputs": [
    {
     "data": {
      "text/plain": [
       "['default', 'Theta_1', 'Theta_2', 'Theta_3']"
      ]
     },
     "execution_count": 72,
     "metadata": {},
     "output_type": "execute_result"
    }
   ],
   "source": [
    "p_template.keys()"
   ]
  },
  {
   "cell_type": "code",
   "execution_count": 73,
   "metadata": {},
   "outputs": [],
   "source": [
    "def p_fun(t_now):\n",
    "    p_template['Theta_1'] = 2.25e-4\n",
    "    p_template['Theta_2'] = 2.25e-4\n",
    "    p_template['Theta_3'] = 2.25e-4\n",
    "    return p_template"
   ]
  },
  {
   "cell_type": "code",
   "execution_count": 74,
   "metadata": {},
   "outputs": [],
   "source": [
    "simulator.set_p_fun(p_fun)"
   ]
  },
  {
   "cell_type": "code",
   "execution_count": 76,
   "metadata": {},
   "outputs": [
    {
     "ename": "AttributeError",
     "evalue": "module 'do_mpc' has no attribute 'CASADI_LEGACY_MODE'",
     "output_type": "error",
     "traceback": [
      "\u001b[1;31m---------------------------------------------------------------------------\u001b[0m",
      "\u001b[1;31mAttributeError\u001b[0m                            Traceback (most recent call last)",
      "Cell \u001b[1;32mIn[76], line 1\u001b[0m\n\u001b[1;32m----> 1\u001b[0m simulator\u001b[39m.\u001b[39;49msetup()\n",
      "File \u001b[1;32mc:\\Users\\Raikou\\anaconda3\\lib\\site-packages\\do_mpc\\simulator.py:245\u001b[0m, in \u001b[0;36mSimulator.setup\u001b[1;34m(self)\u001b[0m\n\u001b[0;32m    239\u001b[0m \u001b[39m# Set the integrator options\u001b[39;00m\n\u001b[0;32m    240\u001b[0m opts \u001b[39m=\u001b[39m {\n\u001b[0;32m    241\u001b[0m     \u001b[39m'\u001b[39m\u001b[39mabstol\u001b[39m\u001b[39m'\u001b[39m: \u001b[39mself\u001b[39m\u001b[39m.\u001b[39msettings\u001b[39m.\u001b[39mabstol,\n\u001b[0;32m    242\u001b[0m     \u001b[39m'\u001b[39m\u001b[39mreltol\u001b[39m\u001b[39m'\u001b[39m: \u001b[39mself\u001b[39m\u001b[39m.\u001b[39msettings\u001b[39m.\u001b[39mreltol,\n\u001b[0;32m    243\u001b[0m }\n\u001b[1;32m--> 245\u001b[0m \u001b[39mif\u001b[39;00m do_mpc\u001b[39m.\u001b[39;49mCASADI_LEGACY_MODE:\n\u001b[0;32m    246\u001b[0m     opts[\u001b[39m'\u001b[39m\u001b[39mtf\u001b[39m\u001b[39m'\u001b[39m] \u001b[39m=\u001b[39m \u001b[39mself\u001b[39m\u001b[39m.\u001b[39msettings\u001b[39m.\u001b[39mt_step\n\u001b[0;32m    247\u001b[0m     \u001b[39mself\u001b[39m\u001b[39m.\u001b[39msimulator \u001b[39m=\u001b[39m castools\u001b[39m.\u001b[39mintegrator(\u001b[39m'\u001b[39m\u001b[39msimulator\u001b[39m\u001b[39m'\u001b[39m, \u001b[39mself\u001b[39m\u001b[39m.\u001b[39msettings\u001b[39m.\u001b[39mintegration_tool, dae, opts)\n",
      "\u001b[1;31mAttributeError\u001b[0m: module 'do_mpc' has no attribute 'CASADI_LEGACY_MODE'"
     ]
    }
   ],
   "source": [
    "simulator.setup()"
   ]
  },
  {
   "attachments": {},
   "cell_type": "markdown",
   "metadata": {},
   "source": [
    "## Creating the control loop"
   ]
  },
  {
   "cell_type": "code",
   "execution_count": 79,
   "metadata": {},
   "outputs": [],
   "source": [
    "x0 = np.pi*np.array([1, 1, -1.5, 1, -1, 1, 0, 0]).reshape(-1,1)"
   ]
  },
  {
   "cell_type": "code",
   "execution_count": 80,
   "metadata": {},
   "outputs": [],
   "source": [
    "simulator.x0 = x0\n",
    "mpc.x0 = x0"
   ]
  },
  {
   "cell_type": "code",
   "execution_count": 81,
   "metadata": {},
   "outputs": [
    {
     "data": {
      "text/plain": [
       "<casadi.tools.structure3.DMStruct at 0x220966a4610>"
      ]
     },
     "execution_count": 81,
     "metadata": {},
     "output_type": "execute_result"
    }
   ],
   "source": [
    "mpc.x0"
   ]
  },
  {
   "cell_type": "code",
   "execution_count": 82,
   "metadata": {},
   "outputs": [
    {
     "data": {
      "text/plain": [
       "DM(3.14159)"
      ]
     },
     "execution_count": 82,
     "metadata": {},
     "output_type": "execute_result"
    }
   ],
   "source": [
    "mpc.x0['phi_1']"
   ]
  },
  {
   "cell_type": "code",
   "execution_count": 83,
   "metadata": {},
   "outputs": [],
   "source": [
    "mpc.set_initial_guess() # set the initial guess for the optimizer"
   ]
  },
  {
   "attachments": {},
   "cell_type": "markdown",
   "metadata": {},
   "source": [
    "### Setting up the graphic"
   ]
  },
  {
   "cell_type": "code",
   "execution_count": 84,
   "metadata": {},
   "outputs": [],
   "source": [
    "import matplotlib.pyplot as plt\n",
    "import matplotlib as mpl\n",
    "# Customizing Matplotlib:\n",
    "mpl.rcParams['font.size'] = 18\n",
    "mpl.rcParams['lines.linewidth'] = 3\n",
    "mpl.rcParams['axes.grid'] = True"
   ]
  },
  {
   "cell_type": "code",
   "execution_count": 85,
   "metadata": {},
   "outputs": [],
   "source": [
    "mpc_graphics = do_mpc.graphics.Graphics(mpc.data)\n",
    "sim_graphics = do_mpc.graphics.Graphics(simulator.data)"
   ]
  },
  {
   "cell_type": "code",
   "execution_count": 86,
   "metadata": {},
   "outputs": [],
   "source": [
    "%%capture\n",
    "# We just want to create the plot and not show it right now. This \"inline magic\" supresses the output.\n",
    "fig, ax = plt.subplots(2, sharex=True, figsize=(16,9))\n",
    "fig.align_ylabels()"
   ]
  },
  {
   "cell_type": "code",
   "execution_count": 87,
   "metadata": {},
   "outputs": [],
   "source": [
    "%%capture\n",
    "for g in [sim_graphics, mpc_graphics]: # show the simulator and mpc results on the same axis\n",
    "    # Plot the angle positions (phi_1, phi_2, phi_2) on the first axis:\n",
    "    g.add_line(var_type='_x', var_name='phi_1', axis=ax[0])\n",
    "    g.add_line(var_type='_x', var_name='phi_2', axis=ax[0])\n",
    "    g.add_line(var_type='_x', var_name='phi_3', axis=ax[0])\n",
    "\n",
    "    # Plot the set motor positions (phi_m_1_set, phi_m_2_set) on the second axis:\n",
    "    g.add_line(var_type='_u', var_name='phi_m_1_set', axis=ax[1])\n",
    "    g.add_line(var_type='_u', var_name='phi_m_2_set', axis=ax[1])\n",
    "\n",
    "\n",
    "ax[0].set_ylabel('angle position [rad]')\n",
    "ax[1].set_ylabel('motor angle [rad]')\n",
    "ax[1].set_xlabel('time [s]')"
   ]
  },
  {
   "attachments": {},
   "cell_type": "markdown",
   "metadata": {},
   "source": [
    "### Running the simulator"
   ]
  },
  {
   "cell_type": "code",
   "execution_count": 88,
   "metadata": {},
   "outputs": [
    {
     "ename": "AssertionError",
     "evalue": "Simulator is not setup. Call simulator.setup() first.",
     "output_type": "error",
     "traceback": [
      "\u001b[1;31m---------------------------------------------------------------------------\u001b[0m",
      "\u001b[1;31mAssertionError\u001b[0m                            Traceback (most recent call last)",
      "Cell \u001b[1;32mIn[88], line 3\u001b[0m\n\u001b[0;32m      1\u001b[0m u0 \u001b[39m=\u001b[39m np\u001b[39m.\u001b[39mzeros((\u001b[39m2\u001b[39m,\u001b[39m1\u001b[39m))\n\u001b[0;32m      2\u001b[0m \u001b[39mfor\u001b[39;00m i \u001b[39min\u001b[39;00m \u001b[39mrange\u001b[39m(\u001b[39m200\u001b[39m):\n\u001b[1;32m----> 3\u001b[0m     simulator\u001b[39m.\u001b[39;49mmake_step(u0)\n",
      "File \u001b[1;32mc:\\Users\\Raikou\\anaconda3\\lib\\site-packages\\do_mpc\\simulator.py:595\u001b[0m, in \u001b[0;36mSimulator.make_step\u001b[1;34m(self, u0, v0, w0)\u001b[0m\n\u001b[0;32m    592\u001b[0m     \u001b[39massert\u001b[39;00m \u001b[39mself\u001b[39m\u001b[39m.\u001b[39mmodel\u001b[39m.\u001b[39mn_u \u001b[39m==\u001b[39m \u001b[39m0\u001b[39m, \u001b[39m'\u001b[39m\u001b[39mNo input u0 provided. Please provide an input u0.\u001b[39m\u001b[39m'\u001b[39m\n\u001b[0;32m    593\u001b[0m     u0 \u001b[39m=\u001b[39m \u001b[39mself\u001b[39m\u001b[39m.\u001b[39mmodel\u001b[39m.\u001b[39m_u(\u001b[39m0\u001b[39m)\n\u001b[1;32m--> 595\u001b[0m \u001b[39massert\u001b[39;00m \u001b[39mself\u001b[39m\u001b[39m.\u001b[39mflags[\u001b[39m'\u001b[39m\u001b[39msetup\u001b[39m\u001b[39m'\u001b[39m] \u001b[39m==\u001b[39m \u001b[39mTrue\u001b[39;00m, \u001b[39m'\u001b[39m\u001b[39mSimulator is not setup. Call simulator.setup() first.\u001b[39m\u001b[39m'\u001b[39m\n\u001b[0;32m    596\u001b[0m \u001b[39massert\u001b[39;00m \u001b[39misinstance\u001b[39m(u0, (np\u001b[39m.\u001b[39mndarray, castools\u001b[39m.\u001b[39mDM, castools\u001b[39m.\u001b[39mstructure3\u001b[39m.\u001b[39mDMStruct)), \u001b[39m'\u001b[39m\u001b[39mu0 is wrong input type. You have: \u001b[39m\u001b[39m{}\u001b[39;00m\u001b[39m'\u001b[39m\u001b[39m.\u001b[39mformat(\u001b[39mtype\u001b[39m(u0))\n\u001b[0;32m    597\u001b[0m \u001b[39massert\u001b[39;00m u0\u001b[39m.\u001b[39mshape \u001b[39m==\u001b[39m \u001b[39mself\u001b[39m\u001b[39m.\u001b[39mmodel\u001b[39m.\u001b[39m_u\u001b[39m.\u001b[39mshape, \u001b[39m'\u001b[39m\u001b[39mu0 has incorrect shape. You have: \u001b[39m\u001b[39m{}\u001b[39;00m\u001b[39m, expected: \u001b[39m\u001b[39m{}\u001b[39;00m\u001b[39m'\u001b[39m\u001b[39m.\u001b[39mformat(u0\u001b[39m.\u001b[39mshape, \u001b[39mself\u001b[39m\u001b[39m.\u001b[39mmodel\u001b[39m.\u001b[39m_u\u001b[39m.\u001b[39mshape)\n",
      "\u001b[1;31mAssertionError\u001b[0m: Simulator is not setup. Call simulator.setup() first."
     ]
    }
   ],
   "source": [
    "u0 = np.zeros((2,1))\n",
    "for i in range(200):\n",
    "    simulator.make_step(u0)"
   ]
  },
  {
   "cell_type": "code",
   "execution_count": null,
   "metadata": {},
   "outputs": [],
   "source": []
  }
 ],
 "metadata": {
  "kernelspec": {
   "display_name": "base",
   "language": "python",
   "name": "python3"
  },
  "language_info": {
   "codemirror_mode": {
    "name": "ipython",
    "version": 3
   },
   "file_extension": ".py",
   "mimetype": "text/x-python",
   "name": "python",
   "nbconvert_exporter": "python",
   "pygments_lexer": "ipython3",
   "version": "3.10.9"
  },
  "orig_nbformat": 4
 },
 "nbformat": 4,
 "nbformat_minor": 2
}
